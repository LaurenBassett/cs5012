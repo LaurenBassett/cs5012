{
 "cells": [
  {
   "cell_type": "markdown",
   "metadata": {},
   "source": [
    "### CS 5012: Foundations of Computer Science\n",
    "#### Programming Assignment: Computing Edit Distance\n",
    "#### Name: Lauren Bassett\n",
    "\n",
    "Last Updated: March 21, 2022\n"
   ]
  },
  {
   "cell_type": "markdown",
   "metadata": {},
   "source": [
    "---"
   ]
  },
  {
   "cell_type": "markdown",
   "metadata": {},
   "source": [
    "**INSTRUCTIONS**\n",
    "\n",
    "Recall that *edit distance* is used to quantify the dissimilarity of two strings.  \n",
    "This is done by counting the minimum number of operations required to transform one string into the other.\n",
    "\n",
    "The operations we will consider are:\n",
    "- delete a character (**H**ello -> ello)\n",
    "- insert a character (ello -> **H**ello)\n",
    "- substitute a character (**t**op -> **b**op) \n",
    "\n",
    "We apply a penalty of 1 for each of these operations.\n",
    "\n",
    "Example:\n",
    "- string1: Hello\n",
    "- string2: elllo\n",
    "\n",
    "edit_distance(Hello,elllo) = 2\n",
    "\n",
    "Starting with *elllo* for example:   \n",
    "elllo -> **H**elllo (insert H: +1)   \n",
    "Hel**l**lo -> Hello (delete l: +1)\n",
    "\n",
    "The strings now match after two operations.\n",
    "\n",
    "Solve all tasks below, showing code and results.  \n",
    "Submit your completed file.\n",
    "\n",
    "\n",
    "**TOTAL POINTS: 10**\n",
    "\n",
    "---"
   ]
  },
  {
   "cell_type": "markdown",
   "metadata": {},
   "source": [
    "1) (6 POINTS) Write a function that take two strings as input, and computes and returns their edit distance. Use a matrix (as in LCS calculations) to track results, and have the function print the matrix."
   ]
  },
  {
   "cell_type": "code",
   "execution_count": 137,
   "metadata": {},
   "outputs": [],
   "source": [
    "def format_print_matrix(M, X_Axis, Y_Axis):\n",
    "    #borrowed code from here: https://stackoverflow.com/questions/37093510/how-to-print-array-as-a-table-in-python\n",
    "    #Used provided code for formatting, but changed the code to replace column and row number with corresponding character instead\n",
    "    \n",
    "    listX = ['0'] + list(X_Axis)\n",
    "    listY = ['0'] + list(Y_Axis)\n",
    "    \n",
    "        # Do heading\n",
    "    print(\"     \", end=\"\")\n",
    "\n",
    "    for j in range(len(M[0])):\n",
    "        print(\"%5s \" % listY[j], end=\"\")\n",
    "    print()\n",
    "    print(\"     \", end=\"\")\n",
    "    for j in range(len(M[0])):\n",
    "        print(\"------\", end=\"\")\n",
    "    print()\n",
    "    # Matrix contents\n",
    "    for i in range(len(M)):\n",
    "        print(\"%3s |\" % listX[i], end=\"\") # Row nums\n",
    "        for j in range(len(M[0])):\n",
    "            print(\"%5s \" % (M[i][j]), end=\"\")\n",
    "        print()  "
   ]
  },
  {
   "cell_type": "code",
   "execution_count": 143,
   "metadata": {},
   "outputs": [],
   "source": [
    "## Collects to strings and returns their edit distance\n",
    "# Storing in a matrix will be a different ballgame \n",
    "\n",
    "def edit_dist(X_axis, Y_axis):\n",
    "    #first find lengths\n",
    "    len_X_Ax = len(X_axis)\n",
    "    len_Y_Ax = len(Y_axis)\n",
    "    \n",
    "    MATRIX = [[None]*(len_Y_Ax+1) for i in range(len_X_Ax+ 1)]\n",
    "    '''\n",
    "    Description of how this matrix functions:\n",
    "    if N is \"HELLO\"\n",
    "    and M is \"ELLO\"\n",
    "    The corresponding matrix would look like this:\n",
    "    [ \n",
    "          0     H      E    L      L    O\n",
    "    0:  [None, None, None, None, None, None], \n",
    "    E:  [None, None, None, None, None, None], \n",
    "    L : [None, None, None, None, None, None], \n",
    "    L : [None, None, None, None, None, None], \n",
    "    O : [None, None, None, None, None, None]    \n",
    "    ]\n",
    "    **Note, I added in the letters for reference only, in the actual code these are not present.\n",
    "    \n",
    "    This gives us a tuple for each possible combination of Letters\n",
    "    That we can then populate by iterating over each row and column\n",
    "    of the words to populate the matrix instead of running the problem\n",
    "    recursively. \n",
    "'''\n",
    "    #now that the matrix is defined, we will iterate through every cell:\n",
    "    for X in range(1+ len_X_Ax):\n",
    "        for Y in range(1+len_Y_Ax):\n",
    "            if X == 0: #insert all characters of second string\n",
    "               MATRIX[X][Y] = Y \n",
    "            \n",
    "            elif Y==0:#remove all characters from second string\n",
    "                MATRIX[X][Y] = X \n",
    "            elif X_axis[X-1] == Y_axis[Y-1]: #if the last character is the same, ignore it\n",
    "                MATRIX[X][Y] = MATRIX[X-1][Y-1]\n",
    "            else:\n",
    "                #options are to insert, remove, or replace\n",
    "                #Find minimum cost:\n",
    "            \n",
    "                insert =MATRIX[X][Y-1]\n",
    "                remove = MATRIX[X-1][Y]\n",
    "                replace = MATRIX[X-1][Y-1]\n",
    "                min_swap = min(insert,remove,replace)\n",
    "                MATRIX[X][Y] = 1 + min_swap\n",
    "    \n",
    "                \n",
    "    print(\"+--- Comparing\", X_axis, \"and\", Y_axis, \"---+\")\n",
    "    print('Matrix: ')\n",
    "    format_print_matrix(MATRIX, X_axis, Y_axis)\n",
    "    print(\"\\nLength:\")\n",
    "    \n",
    "    print(\"The length of the edit distance is:\", MATRIX[len_X_Ax][len_Y_Ax])\n",
    "    \n",
    "    #check if either is zero\n",
    "    #if len_n == 0 or len_m == 0:\n",
    "     #   return 0\n",
    "    \n",
    "    #if string_m[len_n]\n",
    "    \n",
    "    \n",
    "    "
   ]
  },
  {
   "cell_type": "code",
   "execution_count": 131,
   "metadata": {},
   "outputs": [
    {
     "name": "stdout",
     "output_type": "stream",
     "text": [
      "+--- Comparing Hello and Ello ---+\n",
      "Matrix: \n",
      "         0     E     l     l     o \n",
      "     ------------------------------\n",
      "  0 |    0     1     2     3     4 \n",
      "  H |    1     1     2     3     4 \n",
      "  e |    2     2     2     3     4 \n",
      "  l |    3     3     2     2     3 \n",
      "  l |    4     4     3     2     3 \n",
      "  o |    5     5     4     3     2 \n",
      "\n",
      "Length:\n",
      "The length of the edit distance is: 2\n"
     ]
    }
   ],
   "source": [
    "edit_dist(\"Hello\", \"Ello\")"
   ]
  },
  {
   "cell_type": "markdown",
   "metadata": {},
   "source": [
    "2) (1 POINT) Compute edit distance between **Bellman** and empty string"
   ]
  },
  {
   "cell_type": "code",
   "execution_count": 130,
   "metadata": {},
   "outputs": [
    {
     "name": "stdout",
     "output_type": "stream",
     "text": [
      "+--- Comparing Bellman and  ---+\n",
      "Matrix: \n",
      "         0 \n",
      "     ------\n",
      "  0 |    0 \n",
      "  B |    1 \n",
      "  e |    2 \n",
      "  l |    3 \n",
      "  l |    4 \n",
      "  m |    5 \n",
      "  a |    6 \n",
      "  n |    7 \n",
      "\n",
      "Length:\n",
      "The length of the edit distance is: 7\n"
     ]
    }
   ],
   "source": [
    "edit_dist(\"Bellman\", \"\")"
   ]
  },
  {
   "cell_type": "markdown",
   "metadata": {},
   "source": [
    "3)  (1 POINT) Compute edit distance between **test** and **test**"
   ]
  },
  {
   "cell_type": "code",
   "execution_count": 102,
   "metadata": {},
   "outputs": [
    {
     "name": "stdout",
     "output_type": "stream",
     "text": [
      "+--- Comparing test and test ---+\n",
      "Matrix: \n",
      "         0     t     e     s     t \n",
      "     ------------------------------\n",
      "  0 |    0     1     2     3     4 \n",
      "  t |    1     0     1     2     3 \n",
      "  e |    2     1     0     1     2 \n",
      "  s |    3     2     1     0     1 \n",
      "  t |    4     3     2     1     0 \n",
      "\n",
      "Length:\n",
      "The length of the edit distance is: 0\n"
     ]
    }
   ],
   "source": [
    "edit_dist(\"test\", \"test\")"
   ]
  },
  {
   "cell_type": "markdown",
   "metadata": {},
   "source": [
    "4a)  (1 POINT) Compute edit distance between **mailman** and **namliam**"
   ]
  },
  {
   "cell_type": "code",
   "execution_count": 108,
   "metadata": {},
   "outputs": [
    {
     "name": "stdout",
     "output_type": "stream",
     "text": [
      "+--- Comparing mailman and namliam ---+\n",
      "Matrix: \n",
      "         0     n     a     m     l     i     a     m \n",
      "     ------------------------------------------------\n",
      "  0 |    0     1     2     3     4     5     6     7 \n",
      "  m |    1     1     2     2     3     4     5     6 \n",
      "  a |    2     2     1     2     3     4     4     5 \n",
      "  i |    3     3     2     2     3     3     4     5 \n",
      "  l |    4     4     3     3     2     3     4     5 \n",
      "  m |    5     5     4     3     3     3     4     4 \n",
      "  a |    6     6     5     4     4     4     3     4 \n",
      "  n |    7     6     6     5     5     5     4     4 \n",
      "\n",
      "Length:\n",
      "The length of the edit distance is: 4\n"
     ]
    }
   ],
   "source": [
    "edit_dist(\"mailman\", \"namliam\")"
   ]
  },
  {
   "cell_type": "markdown",
   "metadata": {},
   "source": [
    "4b)  (1 POINT) Show each step of the process to change **mailman** to **namliam**.\n",
    "\n",
    "This should verify the edit distance. You might find your solution from (4a) helpful. "
   ]
  },
  {
   "cell_type": "markdown",
   "metadata": {},
   "source": [
    "![](4banswer.png)"
   ]
  },
  {
   "cell_type": "markdown",
   "metadata": {},
   "source": [
    "---"
   ]
  }
 ],
 "metadata": {
  "kernelspec": {
   "display_name": "Python 3.8.2 32-bit",
   "language": "python",
   "name": "python3"
  },
  "language_info": {
   "codemirror_mode": {
    "name": "ipython",
    "version": 3
   },
   "file_extension": ".py",
   "mimetype": "text/x-python",
   "name": "python",
   "nbconvert_exporter": "python",
   "pygments_lexer": "ipython3",
   "version": "3.8.2"
  },
  "vscode": {
   "interpreter": {
    "hash": "1cff123185cf77e861a04ecc29864cb7acb8f0b8d6dfdc6d464e47ed203db9f8"
   }
  }
 },
 "nbformat": 4,
 "nbformat_minor": 4
}
