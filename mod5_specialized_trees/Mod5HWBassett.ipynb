{
 "metadata": {
  "language_info": {
   "codemirror_mode": {
    "name": "ipython",
    "version": 3
   },
   "file_extension": ".py",
   "mimetype": "text/x-python",
   "name": "python",
   "nbconvert_exporter": "python",
   "pygments_lexer": "ipython3",
   "version": 3
  },
  "orig_nbformat": 2
 },
 "nbformat": 4,
 "nbformat_minor": 2,
 "cells": [
  {
   "source": [
    "# Binary Search Tree. HW 5.4\n",
    "\n",
    "Last Updated: June 10, 2022\n",
    "\n",
    "**INSTRUCTIONS**\n",
    "\n",
    "Below is code for a Binary Search Tree Class. Seven of the methods in this implementation are incomplete (vacuous): `find`, `size`, `preorder`, `inorder`, `postorder`, \\_\\_str\\_\\_ and `height`. It is your task to complete them. Use the testing code to test and confirm your implementation. Submit the completed notebook file (BOTH the .ipynb and a rendered .html).\n",
    "\n",
    "**Note:** Finding the height of a binary tree is a common tech interview question.\n",
    "\n",
    "**POINT VALUES: (TOTAL=10)**  \n",
    "\n",
    "| method| points |\n",
    "| :----| ---- |\n",
    "| find | 2   |\n",
    "| size | 1   |\n",
    "| inorder | 2   |\n",
    "| preorder | 1   |\n",
    "| postorder | 1   |\n",
    "| str | 2   |\n",
    "| height | 1  |"
   ],
   "cell_type": "markdown",
   "metadata": {}
  },
  {
   "cell_type": "code",
   "execution_count": null,
   "metadata": {},
   "outputs": [],
   "source": []
  }
 ]
}